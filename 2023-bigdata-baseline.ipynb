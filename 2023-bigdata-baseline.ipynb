{
 "cells": [
  {
   "cell_type": "markdown",
   "id": "64b64b28-da2b-44cb-802a-874c18fb3fc9",
   "metadata": {},
   "source": [
    "# Readme"
   ]
  },
  {
   "cell_type": "markdown",
   "id": "6ff23633-8901-4ad4-af55-40f735e3af02",
   "metadata": {},
   "source": [
    "### 文件格式\n",
    " - inputs (请把所有的文件合并到一个文件中)\n",
    "   - logs\n",
    "      - xxxx_log.csv\n",
    "      - ....\n",
    "   - trace\n",
    "      - xxxx_trace.csv\n",
    "      - ....\n",
    "   - metric\n",
    "      - xxxx_metric.csv\n",
    "      - ....\n",
    " - labels\n",
    "   - training_label.csv\n",
    "   - training_ground_truth.csv\n",
    "   \n",
    "### 代码思路\n",
    "    1. 合并数据文件，多线程处理\n",
    "    2. 特征工程\n",
    "    3. OVR + Xgboost + MultiSKF 训练\n",
    "    4. 数据表逆透视生成提交文件\n",
    "\n",
    "### 线下得分\n",
    "|                             |   score   |\n",
    "|-----------------------------|:---------:|\n",
    "| LTE4MDk5Mzk2NjU1NjM1ODI0NDc= |  0.745216 |\n",
    "| LTcxMDU4NjY3NDcyMTgwNTc5MDE= |  0.890485 |\n",
    "| LTkyMDExNjM1MjY4NDg4ODU5Mjk= |  0.785117 |\n",
    "| NDExNzk3NjQ4ODg3NTY0OTQ3OA== |  0.796378 |\n",
    "| NO_FAULT                    |  0.723080 |\n",
    "| ODI4MTMxNDkzODEzNTg5OTE4Mg== |  0.798341 |\n",
    "| node-worker1                |  0.718737 |\n",
    "| node-worker2                |  0.791683 |\n",
    "| node-worker3                |  0.734310 |\n",
    "| Weighted AVG.               |  0.775928 |\n",
    "\n",
    "### 线上得分\n",
    "sAUC = 0.6443698288049552\t\n"
   ]
  },
  {
   "cell_type": "code",
   "execution_count": 1,
   "id": "f53ba069-8b33-47bc-af64-3016bd3acb63",
   "metadata": {
    "execution": {
     "iopub.execute_input": "2023-06-26T06:03:36.943464Z",
     "iopub.status.busy": "2023-06-26T06:03:36.943327Z",
     "iopub.status.idle": "2023-06-26T06:03:37.691313Z",
     "shell.execute_reply": "2023-06-26T06:03:37.690652Z",
     "shell.execute_reply.started": "2023-06-26T06:03:36.943448Z"
    },
    "tags": []
   },
   "outputs": [],
   "source": [
    "import os\n",
    "import warnings\n",
    "\n",
    "warnings.filterwarnings('ignore')\n",
    "\n",
    "import numpy as np\n",
    "import pandas as pd\n",
    "from iterstrat.ml_stratifiers import MultilabelStratifiedKFold\n",
    "from joblib import Parallel, delayed\n",
    "from sklearn.metrics import roc_auc_score\n",
    "from sklearn.multiclass import OneVsRestClassifier\n",
    "from sklearn.preprocessing import LabelEncoder, StandardScaler\n",
    "from tqdm.auto import tqdm\n",
    "from xgboost import XGBClassifier\n",
    "\n",
    "\n",
    "def sScore(y_true, y_pred):\n",
    "    score = []\n",
    "    for i in range(num_classes):\n",
    "        score.append(roc_auc_score(y_true[:, i], y_pred[:, i]))\n",
    "        \n",
    "    return score\n",
    "\n",
    "def processing_feature(file):\n",
    "    log, trace, metric, metric_df = pd.DataFrame(), pd.DataFrame(), pd.DataFrame(), pd.DataFrame()\n",
    "    if os.path.exists(f\"./inputs/log/{file}_log.csv\"):\n",
    "        log = pd.read_csv(f\"./inputs/log/{file}_log.csv\").sort_values(by=['timestamp']).reset_index(drop=True)\n",
    "    \n",
    "    if os.path.exists(f\"./inputs/trace/{file}_trace.csv\"):\n",
    "        trace = pd.read_csv(f\"./inputs/trace/{file}_trace.csv\").sort_values(by=['timestamp']).reset_index(drop=True)\n",
    "        \n",
    "    if os.path.exists(f\"./inputs/metric/{file}_metric.csv\"):\n",
    "        metric = pd.read_csv(f\"./inputs/metric/{file}_metric.csv\").sort_values(by=['timestamp']).reset_index(drop=True)\n",
    "    \n",
    "    feats = {\"id\" : file}\n",
    "    if len(trace) > 0:\n",
    "        feats['trace_length'] = len(trace)\n",
    "        feats[f\"trace_status_code_std\"] = trace['status_code'].apply(\"std\")\n",
    "        \n",
    "        for stats_func in ['mean', 'std', 'skew', 'nunique']:\n",
    "            feats[f\"trace_timestamp_{stats_func}\"] = trace['timestamp'].apply(stats_func)\n",
    "            \n",
    "        for stats_func in ['nunique']:\n",
    "            for i in ['host_ip', 'service_name', 'endpoint_name', 'trace_id', 'span_id', 'parent_id', 'start_time', 'end_time']:\n",
    "                feats[f\"trace_{i}_{stats_func}\"] = trace[i].agg(stats_func)\n",
    "                \n",
    "    else:\n",
    "        feats['trace_length'] = -1\n",
    "                \n",
    "    if len(log) > 0:\n",
    "        feats['log_length'] = len(log)\n",
    "        log['message_length'] = log['message'].fillna(\"\").map(len)\n",
    "        log['log_info_length'] = log['message'].map(lambda x:x.split(\"INFO\")).map(len)\n",
    "        \n",
    "    else:\n",
    "        feats['log_length'] = -1\n",
    "\n",
    "    if len(metric) > 0:\n",
    "        feats['metric_length'] = len(metric)\n",
    "        feats['metric_value_timestamp_value_mean_std'] = metric.groupby(['timestamp'])['value'].mean().std()\n",
    "        \n",
    "    else:\n",
    "        feats['metric_length'] = -1\n",
    "\n",
    "    return feats\n",
    "\n",
    "def gen_label(train):\n",
    "    col = np.zeros((train.shape[0], 9))\n",
    "    for i, label in enumerate(train['label'].values):\n",
    "        col[i][label] = 1\n",
    "        \n",
    "    return col"
   ]
  },
  {
   "cell_type": "markdown",
   "id": "bbdf13ce-2c93-456b-8e73-96347b2f6ae5",
   "metadata": {
    "tags": []
   },
   "source": [
    "### 特征工程"
   ]
  },
  {
   "cell_type": "code",
   "execution_count": 2,
   "id": "d49b8b7f-4f74-4ff9-bc85-0d24f3f3f2f1",
   "metadata": {
    "execution": {
     "iopub.execute_input": "2023-06-26T06:03:37.693368Z",
     "iopub.status.busy": "2023-06-26T06:03:37.692834Z",
     "iopub.status.idle": "2023-06-26T06:06:47.958434Z",
     "shell.execute_reply": "2023-06-26T06:06:47.957579Z",
     "shell.execute_reply.started": "2023-06-26T06:03:37.693351Z"
    },
    "tags": []
   },
   "outputs": [
    {
     "name": "stdout",
     "output_type": "stream",
     "text": [
      "IDs Length = 26442\n"
     ]
    },
    {
     "data": {
      "application/vnd.jupyter.widget-view+json": {
       "model_id": "abcca09d2464401fb055792001ed0d80",
       "version_major": 2,
       "version_minor": 0
      },
      "text/plain": [
       "  0%|          | 0/26442 [00:00<?, ?it/s]"
      ]
     },
     "metadata": {},
     "output_type": "display_data"
    }
   ],
   "source": [
    "all_ids = set([i.split(\"_\")[0] for i in os.listdir(\"./inputs/metric/\")]) |\\\n",
    "          set([i.split(\"_\")[0] for i in os.listdir(\"./inputs/log/\")]) |\\\n",
    "          set([i.split(\"_\")[0] for i in os.listdir(\"./inputs/trace/\")])\n",
    "all_ids = list(all_ids)\n",
    "print(\"IDs Length =\", len(all_ids))\n",
    "feature = pd.DataFrame(Parallel(n_jobs=16, backend=\"multiprocessing\")(delayed(processing_feature)(f) for f in tqdm(all_ids)))"
   ]
  },
  {
   "cell_type": "code",
   "execution_count": 3,
   "id": "11e9ac79-5295-49e8-8485-960e51e179c3",
   "metadata": {
    "execution": {
     "iopub.execute_input": "2023-06-26T06:06:47.959969Z",
     "iopub.status.busy": "2023-06-26T06:06:47.959775Z",
     "iopub.status.idle": "2023-06-26T06:06:47.986036Z",
     "shell.execute_reply": "2023-06-26T06:06:47.985458Z",
     "shell.execute_reply.started": "2023-06-26T06:06:47.959948Z"
    },
    "tags": []
   },
   "outputs": [],
   "source": [
    "label = pd.read_csv(\"./labels/training_label.csv\")\n",
    "lb_encoder = LabelEncoder()\n",
    "label['label'] = lb_encoder.fit_transform(label['source'])"
   ]
  },
  {
   "cell_type": "code",
   "execution_count": 4,
   "id": "3bd1827a-10c0-45c4-b6ad-2a368df7b937",
   "metadata": {
    "execution": {
     "iopub.execute_input": "2023-06-26T06:06:47.986999Z",
     "iopub.status.busy": "2023-06-26T06:06:47.986839Z",
     "iopub.status.idle": "2023-06-26T06:06:48.426393Z",
     "shell.execute_reply": "2023-06-26T06:06:48.425800Z",
     "shell.execute_reply.started": "2023-06-26T06:06:47.986984Z"
    },
    "tags": []
   },
   "outputs": [
    {
     "name": "stdout",
     "output_type": "stream",
     "text": [
      "Feature Length = 17\n",
      "Feature = ['trace_length', 'trace_status_code_std', 'trace_timestamp_mean', 'trace_timestamp_std', 'trace_timestamp_skew', 'trace_timestamp_nunique', 'trace_host_ip_nunique', 'trace_service_name_nunique', 'trace_endpoint_name_nunique', 'trace_trace_id_nunique', 'trace_span_id_nunique', 'trace_parent_id_nunique', 'trace_start_time_nunique', 'trace_end_time_nunique', 'log_length', 'metric_length', 'metric_value_timestamp_value_mean_std']\n"
     ]
    }
   ],
   "source": [
    "all_data = feature.merge(label[['id', 'label']].groupby(['id'], as_index=False)['label'].agg(list), how='left', on=['id']).set_index(\"id\")\n",
    "not_use = ['id', 'label']\n",
    "feature_name = [i for i in all_data.columns if i not in not_use]\n",
    "X = all_data[feature_name].replace([np.inf, -np.inf], 0).clip(-1e9, 1e9)\n",
    "print(f\"Feature Length = {len(feature_name)}\")\n",
    "print(f\"Feature = {feature_name}\")"
   ]
  },
  {
   "cell_type": "markdown",
   "id": "afc9b72d-85d5-4786-9a18-480069cbae6b",
   "metadata": {
    "tags": []
   },
   "source": [
    "### OVR + MSKFold"
   ]
  },
  {
   "cell_type": "code",
   "execution_count": 5,
   "id": "0a265b45-3c50-4e19-a06e-4f2083b8ce08",
   "metadata": {
    "execution": {
     "iopub.execute_input": "2023-06-26T06:06:48.427281Z",
     "iopub.status.busy": "2023-06-26T06:06:48.427129Z",
     "iopub.status.idle": "2023-06-26T06:07:11.153401Z",
     "shell.execute_reply": "2023-06-26T06:07:11.152346Z",
     "shell.execute_reply.started": "2023-06-26T06:06:48.427266Z"
    },
    "tags": []
   },
   "outputs": [
    {
     "name": "stdout",
     "output_type": "stream",
     "text": [
      "Score = 0.7730915826391094\n",
      "Score = 0.7729447913392381\n",
      "Score = 0.7705186347617492\n",
      "Score = 0.7856047168307696\n",
      "Score = 0.7797373690996593\n"
     ]
    }
   ],
   "source": [
    "num_classes = 9\n",
    "n_splits = 5\n",
    "kf = MultilabelStratifiedKFold(n_splits=n_splits, random_state=3407, shuffle=True)\n",
    "scaler = StandardScaler()\n",
    "scaler_X = scaler.fit_transform(X.fillna(0).replace([np.inf, -np.inf], 0))\n",
    "\n",
    "y = gen_label(all_data[all_data['label'].notnull()])\n",
    "train_scaler_X = scaler_X[all_data['label'].notnull()]\n",
    "test_scaler_X = scaler_X[all_data['label'].isnull()]\n",
    "\n",
    "ovr_oof = np.zeros((len(train_scaler_X), num_classes))\n",
    "ovr_preds = np.zeros((len(test_scaler_X), num_classes))\n",
    "\n",
    "for train_index, valid_index in kf.split(train_scaler_X, y):\n",
    "    X_train, X_valid = train_scaler_X[train_index], train_scaler_X[valid_index]\n",
    "    y_train, y_valid = y[train_index], y[valid_index]\n",
    "    clf = OneVsRestClassifier(XGBClassifier(random_state=0, n_jobs=8))\n",
    "    clf.fit(X_train, y_train)\n",
    "    ovr_oof[valid_index] = clf.predict_proba(X_valid)\n",
    "    ovr_preds = clf.predict_proba(test_scaler_X) / n_splits\n",
    "    score = sScore(y_valid, ovr_oof[valid_index])\n",
    "    print(f\"Score = {np.mean(score)}\")"
   ]
  },
  {
   "cell_type": "code",
   "execution_count": 6,
   "id": "5ee6b457-01f2-4571-af46-e9977e3754d8",
   "metadata": {
    "execution": {
     "iopub.execute_input": "2023-06-26T06:07:11.155650Z",
     "iopub.status.busy": "2023-06-26T06:07:11.155439Z",
     "iopub.status.idle": "2023-06-26T06:07:11.223404Z",
     "shell.execute_reply": "2023-06-26T06:07:11.222803Z",
     "shell.execute_reply.started": "2023-06-26T06:07:11.155625Z"
    },
    "tags": []
   },
   "outputs": [
    {
     "name": "stdout",
     "output_type": "stream",
     "text": [
      "                                 score\n",
      "LTE4MDk5Mzk2NjU1NjM1ODI0NDc=  0.745216\n",
      "LTcxMDU4NjY3NDcyMTgwNTc5MDE=  0.890485\n",
      "LTkyMDExNjM1MjY4NDg4ODU5Mjk=  0.785117\n",
      "NDExNzk3NjQ4ODg3NTY0OTQ3OA==  0.796378\n",
      "NO_FAULT                      0.723080\n",
      "ODI4MTMxNDkzODEzNTg5OTE4Mg==  0.798341\n",
      "node-worker1                  0.718737\n",
      "node-worker2                  0.791683\n",
      "node-worker3                  0.734310\n",
      "Weighted AVG.                 0.775928\n"
     ]
    }
   ],
   "source": [
    "each_score = sScore(y, ovr_oof)\n",
    "score_metric = pd.DataFrame(each_score, columns=['score'], index=list(lb_encoder.classes_))\n",
    "score_metric.loc[\"Weighted AVG.\", \"score\"] = np.mean(score_metric['score'])\n",
    "print(score_metric)"
   ]
  },
  {
   "cell_type": "markdown",
   "id": "878332cf-48c4-4c37-902f-375a4b6158c4",
   "metadata": {},
   "source": [
    "### Submit"
   ]
  },
  {
   "cell_type": "code",
   "execution_count": 7,
   "id": "22780afa-2055-42c8-b29a-88835381f4a0",
   "metadata": {
    "execution": {
     "iopub.execute_input": "2023-06-26T06:07:11.225427Z",
     "iopub.status.busy": "2023-06-26T06:07:11.225129Z",
     "iopub.status.idle": "2023-06-26T06:07:11.367037Z",
     "shell.execute_reply": "2023-06-26T06:07:11.366381Z",
     "shell.execute_reply.started": "2023-06-26T06:07:11.225411Z"
    },
    "tags": []
   },
   "outputs": [],
   "source": [
    "submit = pd.DataFrame(ovr_preds, columns=lb_encoder.classes_)\n",
    "submit.index = X[all_data['label'].isnull()].index\n",
    "submit.reset_index(inplace=True)\n",
    "submit = submit.melt(id_vars=\"id\", value_vars=lb_encoder.classes_, value_name=\"score\", var_name=\"source\")\n",
    "submit.to_csv(\"baseline.csv\", index=False)"
   ]
  },
  {
   "cell_type": "code",
   "execution_count": null,
   "id": "f84901bc-0d9e-4e32-8507-cbb0ab86ca93",
   "metadata": {
    "tags": []
   },
   "outputs": [],
   "source": []
  },
  {
   "cell_type": "code",
   "execution_count": null,
   "id": "745aebe4-8cd7-4043-b641-0e96b2e2bb5b",
   "metadata": {},
   "outputs": [],
   "source": []
  }
 ],
 "metadata": {
  "kernelspec": {
   "display_name": "py311-torch2",
   "language": "python",
   "name": "py311-torch2"
  },
  "language_info": {
   "codemirror_mode": {
    "name": "ipython",
    "version": 3
   },
   "file_extension": ".py",
   "mimetype": "text/x-python",
   "name": "python",
   "nbconvert_exporter": "python",
   "pygments_lexer": "ipython3",
   "version": "3.11.3"
  }
 },
 "nbformat": 4,
 "nbformat_minor": 5
}
